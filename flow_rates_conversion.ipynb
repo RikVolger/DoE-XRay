{
 "cells": [
  {
   "cell_type": "code",
   "execution_count": 1,
   "metadata": {},
   "outputs": [],
   "source": [
    "import numpy as np\n",
    "import math"
   ]
  },
  {
   "cell_type": "code",
   "execution_count": 2,
   "metadata": {},
   "outputs": [],
   "source": [
    "diameter = .19    # m\n",
    "\n",
    "radius = diameter / 2\n",
    "surface = radius**2 * math.pi    # m2"
   ]
  },
  {
   "cell_type": "code",
   "execution_count": 3,
   "metadata": {},
   "outputs": [
    {
     "name": "stdout",
     "output_type": "stream",
     "text": [
      "0.06 m/s converts to 102.07 l/min with 19 cm diameter (0.0283529 m2 surface)\n",
      "0.12 m/s converts to 204.141 l/min with 19 cm diameter (0.0283529 m2 surface)\n",
      "0.18 m/s converts to 306.211 l/min with 19 cm diameter (0.0283529 m2 surface)\n",
      "0.30 m/s converts to 510.352 l/min with 19 cm diameter (0.0283529 m2 surface)\n"
     ]
    }
   ],
   "source": [
    "flow_rates = np.array([0.06, 0.12, 0.18, 0.30]) # m/s\n",
    "\n",
    "# convert the flow rate in m/s to m3/s, then to l/s, then to l/min\n",
    "flow_rates_liter = flow_rates * surface * 10**3 * 60  # l/min\n",
    "\n",
    "for i in range(len(flow_rates_liter)):\n",
    "    print(f\"{flow_rates[i]:.2f} m/s converts to {flow_rates_liter[i]:g} l/min with {diameter*100:.0f} cm diameter ({surface:g} m2 surface)\")"
   ]
  },
  {
   "cell_type": "code",
   "execution_count": 3,
   "metadata": {},
   "outputs": [
    {
     "name": "stdout",
     "output_type": "stream",
     "text": [
      "0 l/min converts to 0.000 m/s with 19 cm diameter (0.0283529 m2 surface)\n",
      "20 l/min converts to 0.012 m/s with 19 cm diameter (0.0283529 m2 surface)\n",
      "30 l/min converts to 0.018 m/s with 19 cm diameter (0.0283529 m2 surface)\n",
      "80 l/min converts to 0.047 m/s with 19 cm diameter (0.0283529 m2 surface)\n",
      "150 l/min converts to 0.088 m/s with 19 cm diameter (0.0283529 m2 surface)\n"
     ]
    }
   ],
   "source": [
    "flow_rates_liter = np.array([0, 20, 30, 80, 150])\n",
    "\n",
    "u_g_s = flow_rates_liter / surface / 10**3 / 60\n",
    "\n",
    "for i in range(len(flow_rates_liter)):\n",
    "    print(f\"{flow_rates_liter[i]:g} l/min converts to {u_g_s[i]:.3f} m/s with {diameter*100:.0f} cm diameter ({surface:g} m2 surface)\")"
   ]
  }
 ],
 "metadata": {
  "kernelspec": {
   "display_name": "design_of_experiment",
   "language": "python",
   "name": "python3"
  },
  "language_info": {
   "codemirror_mode": {
    "name": "ipython",
    "version": 3
   },
   "file_extension": ".py",
   "mimetype": "text/x-python",
   "name": "python",
   "nbconvert_exporter": "python",
   "pygments_lexer": "ipython3",
   "version": "3.11.6"
  },
  "orig_nbformat": 4
 },
 "nbformat": 4,
 "nbformat_minor": 2
}
