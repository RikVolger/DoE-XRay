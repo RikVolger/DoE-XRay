{
 "cells": [
  {
   "cell_type": "code",
   "execution_count": 1,
   "metadata": {},
   "outputs": [],
   "source": [
    "Na2SO4_max_g = 400\n",
    "NH42SO4_max_g = 764\n",
    "NaCl_max_g = 360\n",
    "NH4Cl_max_g = 300"
   ]
  },
  {
   "cell_type": "code",
   "execution_count": 2,
   "metadata": {},
   "outputs": [],
   "source": [
    "Na2SO4_MW = 142.04\n",
    "NH42SO4_MW = 132.14\n",
    "NaCl_MW = 58.44\n",
    "NH4Cl_MW = 53.491"
   ]
  },
  {
   "cell_type": "code",
   "execution_count": 3,
   "metadata": {},
   "outputs": [],
   "source": [
    "Na2SO4_max_mol = Na2SO4_max_g / Na2SO4_MW\n",
    "NH42SO4_max_mol = NH42SO4_max_g / NH42SO4_MW\n",
    "NaCl_max_mol = NaCl_max_g / NaCl_MW\n",
    "NH4Cl_max_mol = NH4Cl_max_g / NH4Cl_MW"
   ]
  },
  {
   "cell_type": "code",
   "execution_count": 4,
   "metadata": {},
   "outputs": [
    {
     "name": "stdout",
     "output_type": "stream",
     "text": [
      "Maximum concentration Na2SO4 (mol/L): 2.82\n",
      "Maximum concentration NH42SO4 (mol/L): 5.78\n",
      "Maximum concentration NaCl (mol/L): 6.16\n",
      "Maximum concentration NH4Cl (mol/L): 5.61\n"
     ]
    }
   ],
   "source": [
    "print(f\"Maximum concentration Na2SO4 (mol/L): {Na2SO4_max_mol:.2f}\")\n",
    "print(f\"Maximum concentration NH42SO4 (mol/L): {NH42SO4_max_mol:.2f}\")\n",
    "print(f\"Maximum concentration NaCl (mol/L): {NaCl_max_mol:.2f}\")\n",
    "print(f\"Maximum concentration NH4Cl (mol/L): {NH4Cl_max_mol:.2f}\")"
   ]
  },
  {
   "cell_type": "code",
   "execution_count": 7,
   "metadata": {},
   "outputs": [],
   "source": [
    "c_max_mol = 0.5\n",
    "\n",
    "Na2SO4_max_g = c_max_mol * Na2SO4_MW\n",
    "NH42SO4_max_g = c_max_mol * NH42SO4_MW\n",
    "NaCl_max_g = c_max_mol * NaCl_MW\n",
    "NH4Cl_max_g = c_max_mol * NH4Cl_MW"
   ]
  },
  {
   "cell_type": "code",
   "execution_count": 9,
   "metadata": {},
   "outputs": [
    {
     "name": "stdout",
     "output_type": "stream",
     "text": [
      "Maximum concentration Na2SO4 (g/L): 71.02\n",
      "Maximum concentration NH42SO4 (g/L): 66.07\n",
      "Maximum concentration NaCl (g/L): 29.22\n",
      "Maximum concentration NH4Cl (g/L): 26.75\n"
     ]
    }
   ],
   "source": [
    "print(f\"Maximum concentration Na2SO4 (g/L): {Na2SO4_max_g:.2f}\")\n",
    "print(f\"Maximum concentration NH42SO4 (g/L): {NH42SO4_max_g:.2f}\")\n",
    "print(f\"Maximum concentration NaCl (g/L): {NaCl_max_g:.2f}\")\n",
    "print(f\"Maximum concentration NH4Cl (g/L): {NH4Cl_max_g:.2f}\")"
   ]
  },
  {
   "cell_type": "code",
   "execution_count": 16,
   "metadata": {},
   "outputs": [],
   "source": [
    "water_in_air = 17.3     # g / m3\n",
    "\n",
    "Na2SO4_max_in_air = Na2SO4_max_g * water_in_air\n",
    "NH42SO4_max_in_air = NH42SO4_max_g * water_in_air\n",
    "NaCl_max_in_air = NaCl_max_g * water_in_air\n",
    "NH4Cl_max_in_air = NH4Cl_max_g * water_in_air"
   ]
  },
  {
   "cell_type": "code",
   "execution_count": 17,
   "metadata": {},
   "outputs": [
    {
     "name": "stdout",
     "output_type": "stream",
     "text": [
      "Maximum concentration Na2SO4 (mg/m3): 1228.65\n",
      "Maximum concentration NH42SO4 (mg/m3): 1143.01\n",
      "Maximum concentration NaCl (mg/m3): 505.51\n",
      "Maximum concentration NH4Cl (mg/m3): 462.70\n"
     ]
    }
   ],
   "source": [
    "print(f\"Maximum concentration Na2SO4 (mg/m3): {Na2SO4_max_in_air:.2f}\")\n",
    "print(f\"Maximum concentration NH42SO4 (mg/m3): {NH42SO4_max_in_air:.2f}\")\n",
    "print(f\"Maximum concentration NaCl (mg/m3): {NaCl_max_in_air:.2f}\")\n",
    "print(f\"Maximum concentration NH4Cl (mg/m3): {NH4Cl_max_in_air:.2f}\")"
   ]
  },
  {
   "cell_type": "code",
   "execution_count": null,
   "metadata": {},
   "outputs": [],
   "source": []
  }
 ],
 "metadata": {
  "kernelspec": {
   "display_name": "base",
   "language": "python",
   "name": "python3"
  },
  "language_info": {
   "codemirror_mode": {
    "name": "ipython",
    "version": 3
   },
   "file_extension": ".py",
   "mimetype": "text/x-python",
   "name": "python",
   "nbconvert_exporter": "python",
   "pygments_lexer": "ipython3",
   "version": "3.9.7"
  },
  "orig_nbformat": 4,
  "vscode": {
   "interpreter": {
    "hash": "f52dd4454f15a6a9f90f61a56df0f3376929b1d83fcc49c7ab364f10244d9526"
   }
  }
 },
 "nbformat": 4,
 "nbformat_minor": 2
}
